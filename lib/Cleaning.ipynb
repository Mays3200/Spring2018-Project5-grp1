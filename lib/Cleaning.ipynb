{
 "cells": [
  {
   "cell_type": "code",
   "execution_count": 1,
   "metadata": {
    "collapsed": true
   },
   "outputs": [],
   "source": [
    "import json\n",
    "import pandas as pd\n",
    "import matplotlib.pyplot as plt"
   ]
  },
  {
   "cell_type": "code",
   "execution_count": 2,
   "metadata": {
    "collapsed": true
   },
   "outputs": [],
   "source": [
    "import time\n",
    "import os"
   ]
  },
  {
   "cell_type": "code",
   "execution_count": 3,
   "metadata": {
    "collapsed": true
   },
   "outputs": [],
   "source": [
    "myfile=[]\n",
    "for file in os.listdir(\"../data/Tweets\"):\n",
    "    myfile.append(\"../data/Tweets/\"+file)"
   ]
  },
  {
   "cell_type": "code",
   "execution_count": 4,
   "metadata": {},
   "outputs": [
    {
     "data": {
      "text/plain": [
       "['../data/Tweets/tradewar-2018-04-23-00-23.json',\n",
       " '../data/Tweets/tradewar-2018-04-24-14-16.json',\n",
       " '../data/Tweets/TW.txt',\n",
       " '../data/Tweets/TW1.txt',\n",
       " '../data/Tweets/TW10.txt',\n",
       " '../data/Tweets/TW10_2.txt',\n",
       " '../data/Tweets/TW11_1.txt',\n",
       " '../data/Tweets/TW11__1.txt',\n",
       " '../data/Tweets/TW12.txt',\n",
       " '../data/Tweets/TW12_1.txt',\n",
       " '../data/Tweets/TW12_2.txt',\n",
       " '../data/Tweets/TW13.txt',\n",
       " '../data/Tweets/TW14.txt',\n",
       " '../data/Tweets/TW15.txt',\n",
       " '../data/Tweets/TW16.txt',\n",
       " '../data/Tweets/TW17.txt',\n",
       " '../data/Tweets/TW18.txt',\n",
       " '../data/Tweets/TW19.txt',\n",
       " '../data/Tweets/TW2-2.txt',\n",
       " '../data/Tweets/TW2.txt',\n",
       " '../data/Tweets/TW20.txt',\n",
       " '../data/Tweets/TW21.txt',\n",
       " '../data/Tweets/TW22.txt',\n",
       " '../data/Tweets/TW3(1).txt',\n",
       " '../data/Tweets/TW4.txt',\n",
       " '../data/Tweets/TW4_24txt.txt',\n",
       " '../data/Tweets/TW5.txt',\n",
       " '../data/Tweets/TW6.txt',\n",
       " '../data/Tweets/TW7.txt',\n",
       " '../data/Tweets/TW7_2.txt',\n",
       " '../data/Tweets/TW8.txt',\n",
       " '../data/Tweets/TW8_2.txt',\n",
       " '../data/Tweets/TW9.txt']"
      ]
     },
     "execution_count": 4,
     "metadata": {},
     "output_type": "execute_result"
    }
   ],
   "source": [
    "myfile"
   ]
  },
  {
   "cell_type": "code",
   "execution_count": 5,
   "metadata": {
    "collapsed": true
   },
   "outputs": [],
   "source": [
    "tweets_data=[]\n",
    "for thisfile in myfile:\n",
    "    with open(thisfile, 'r') as f:\n",
    "        for line in f:\n",
    "            try:\n",
    "                tweet=json.loads(line)\n",
    "                tweets_data.append(tweet)\n",
    "            except:\n",
    "                continue"
   ]
  },
  {
   "cell_type": "code",
   "execution_count": 6,
   "metadata": {},
   "outputs": [
    {
     "data": {
      "text/plain": [
       "{'contributors': None,\n",
       " 'coordinates': None,\n",
       " 'created_at': 'Mon Apr 23 11:20:49 +0000 2018',\n",
       " 'entities': {'hashtags': [],\n",
       "  'symbols': [],\n",
       "  'urls': [],\n",
       "  'user_mentions': [{'id': 888861042117230592,\n",
       "    'id_str': '888861042117230592',\n",
       "    'indices': [3, 18],\n",
       "    'name': 'America First',\n",
       "    'screen_name': 'trueamerica1st'},\n",
       "   {'id': 25073877,\n",
       "    'id_str': '25073877',\n",
       "    'indices': [20, 36],\n",
       "    'name': 'Donald J. Trump',\n",
       "    'screen_name': 'realDonaldTrump'},\n",
       "   {'id': 1367531,\n",
       "    'id_str': '1367531',\n",
       "    'indices': [37, 45],\n",
       "    'name': 'Fox News',\n",
       "    'screen_name': 'FoxNews'}]},\n",
       " 'favorite_count': 0,\n",
       " 'favorited': False,\n",
       " 'filter_level': 'low',\n",
       " 'geo': None,\n",
       " 'id': 988377147898245121,\n",
       " 'id_str': '988377147898245121',\n",
       " 'in_reply_to_screen_name': None,\n",
       " 'in_reply_to_status_id': None,\n",
       " 'in_reply_to_status_id_str': None,\n",
       " 'in_reply_to_user_id': None,\n",
       " 'in_reply_to_user_id_str': None,\n",
       " 'is_quote_status': False,\n",
       " 'lang': 'en',\n",
       " 'place': None,\n",
       " 'quote_count': 0,\n",
       " 'reply_count': 0,\n",
       " 'retweet_count': 0,\n",
       " 'retweeted': False,\n",
       " 'retweeted_status': {'contributors': None,\n",
       "  'coordinates': None,\n",
       "  'created_at': 'Sun Apr 22 12:23:24 +0000 2018',\n",
       "  'display_text_range': [26, 121],\n",
       "  'entities': {'hashtags': [],\n",
       "   'symbols': [],\n",
       "   'urls': [],\n",
       "   'user_mentions': [{'id': 25073877,\n",
       "     'id_str': '25073877',\n",
       "     'indices': [0, 16],\n",
       "     'name': 'Donald J. Trump',\n",
       "     'screen_name': 'realDonaldTrump'},\n",
       "    {'id': 1367531,\n",
       "     'id_str': '1367531',\n",
       "     'indices': [17, 25],\n",
       "     'name': 'Fox News',\n",
       "     'screen_name': 'FoxNews'}]},\n",
       "  'favorite_count': 1573,\n",
       "  'favorited': False,\n",
       "  'filter_level': 'low',\n",
       "  'geo': None,\n",
       "  'id': 988030510067666944,\n",
       "  'id_str': '988030510067666944',\n",
       "  'in_reply_to_screen_name': 'realDonaldTrump',\n",
       "  'in_reply_to_status_id': 988030312088260608,\n",
       "  'in_reply_to_status_id_str': '988030312088260608',\n",
       "  'in_reply_to_user_id': 25073877,\n",
       "  'in_reply_to_user_id_str': '25073877',\n",
       "  'is_quote_status': False,\n",
       "  'lang': 'en',\n",
       "  'place': None,\n",
       "  'quote_count': 23,\n",
       "  'reply_count': 481,\n",
       "  'retweet_count': 251,\n",
       "  'retweeted': False,\n",
       "  'source': '<a href=\"http://twitter.com/download/iphone\" rel=\"nofollow\">Twitter for iPhone</a>',\n",
       "  'text': \"@realDonaldTrump @FoxNews ISIS is gone, North Korea is denuclearizing, and China lost the trade war. And it's only April.\",\n",
       "  'truncated': False,\n",
       "  'user': {'contributors_enabled': False,\n",
       "   'created_at': 'Sat Jul 22 20:39:21 +0000 2017',\n",
       "   'default_profile': True,\n",
       "   'default_profile_image': False,\n",
       "   'description': 'American entrepreneur',\n",
       "   'favourites_count': 18,\n",
       "   'follow_request_sent': None,\n",
       "   'followers_count': 1565,\n",
       "   'following': None,\n",
       "   'friends_count': 5001,\n",
       "   'geo_enabled': False,\n",
       "   'id': 888861042117230592,\n",
       "   'id_str': '888861042117230592',\n",
       "   'is_translator': False,\n",
       "   'lang': 'en',\n",
       "   'listed_count': 21,\n",
       "   'location': 'new',\n",
       "   'name': 'America First',\n",
       "   'notifications': None,\n",
       "   'profile_background_color': 'F5F8FA',\n",
       "   'profile_background_image_url': '',\n",
       "   'profile_background_image_url_https': '',\n",
       "   'profile_background_tile': False,\n",
       "   'profile_banner_url': 'https://pbs.twimg.com/profile_banners/888861042117230592/1500756512',\n",
       "   'profile_image_url': 'http://pbs.twimg.com/profile_images/985029679504506880/I4HTTy7p_normal.jpg',\n",
       "   'profile_image_url_https': 'https://pbs.twimg.com/profile_images/985029679504506880/I4HTTy7p_normal.jpg',\n",
       "   'profile_link_color': '1DA1F2',\n",
       "   'profile_sidebar_border_color': 'C0DEED',\n",
       "   'profile_sidebar_fill_color': 'DDEEF6',\n",
       "   'profile_text_color': '333333',\n",
       "   'profile_use_background_image': True,\n",
       "   'protected': False,\n",
       "   'screen_name': 'trueamerica1st',\n",
       "   'statuses_count': 338,\n",
       "   'time_zone': None,\n",
       "   'translator_type': 'none',\n",
       "   'url': None,\n",
       "   'utc_offset': None,\n",
       "   'verified': False}},\n",
       " 'source': '<a href=\"http://twitter.com/#!/download/ipad\" rel=\"nofollow\">Twitter for iPad</a>',\n",
       " 'text': \"RT @trueamerica1st: @realDonaldTrump @FoxNews ISIS is gone, North Korea is denuclearizing, and China lost the trade war. And it's only Apri…\",\n",
       " 'timestamp_ms': '1524482449875',\n",
       " 'truncated': False,\n",
       " 'user': {'contributors_enabled': False,\n",
       "  'created_at': 'Sat Oct 24 17:15:45 +0000 2009',\n",
       "  'default_profile': True,\n",
       "  'default_profile_image': False,\n",
       "  'description': 'Proud Trump supporter #MAGA #Patriot #Conservative #Deplorable #AmericaFirst #Veterans #TrumpTrain #Draintheswamp #NoDACADeal #BulidTheWallNow #TrumpWorld',\n",
       "  'favourites_count': 5546,\n",
       "  'follow_request_sent': None,\n",
       "  'followers_count': 13488,\n",
       "  'following': None,\n",
       "  'friends_count': 13810,\n",
       "  'geo_enabled': False,\n",
       "  'id': 84894878,\n",
       "  'id_str': '84894878',\n",
       "  'is_translator': False,\n",
       "  'lang': 'en',\n",
       "  'listed_count': 13,\n",
       "  'location': None,\n",
       "  'name': '🇺🇸 Daniel 🇺🇸',\n",
       "  'notifications': None,\n",
       "  'profile_background_color': 'C0DEED',\n",
       "  'profile_background_image_url': 'http://abs.twimg.com/images/themes/theme1/bg.png',\n",
       "  'profile_background_image_url_https': 'https://abs.twimg.com/images/themes/theme1/bg.png',\n",
       "  'profile_background_tile': False,\n",
       "  'profile_banner_url': 'https://pbs.twimg.com/profile_banners/84894878/1505600836',\n",
       "  'profile_image_url': 'http://pbs.twimg.com/profile_images/939165842675298305/4T-sOPWy_normal.jpg',\n",
       "  'profile_image_url_https': 'https://pbs.twimg.com/profile_images/939165842675298305/4T-sOPWy_normal.jpg',\n",
       "  'profile_link_color': '1DA1F2',\n",
       "  'profile_sidebar_border_color': 'C0DEED',\n",
       "  'profile_sidebar_fill_color': 'DDEEF6',\n",
       "  'profile_text_color': '333333',\n",
       "  'profile_use_background_image': True,\n",
       "  'protected': False,\n",
       "  'screen_name': 'dddaniel059',\n",
       "  'statuses_count': 82963,\n",
       "  'time_zone': None,\n",
       "  'translator_type': 'none',\n",
       "  'url': None,\n",
       "  'utc_offset': None,\n",
       "  'verified': False}}"
      ]
     },
     "execution_count": 6,
     "metadata": {},
     "output_type": "execute_result"
    }
   ],
   "source": [
    "tweets_data[2775]"
   ]
  },
  {
   "cell_type": "code",
   "execution_count": 7,
   "metadata": {
    "collapsed": true
   },
   "outputs": [],
   "source": [
    "tweets=pd.DataFrame()# store the final result"
   ]
  },
  {
   "cell_type": "code",
   "execution_count": 8,
   "metadata": {
    "collapsed": true
   },
   "outputs": [],
   "source": [
    "# text: the text of the tweet itself\n",
    "# created_at: the date of creation\n",
    "# favorite_count, retweet_count: the number of favourites and retweets\n",
    "# favorited, retweeted: boolean stating whether the authenticated user (you) have favourited or retweeted this tweet\n",
    "# lang: acronym for the language (e.g. “en” for english)\n",
    "# id: the tweet identifier\n",
    "# place, coordinates, geo: geo-location information if available\n",
    "# user: the author’s full profile\n",
    "# entities: list of entities like URLs, @-mentions, hashtags and symbols\n",
    "# in_reply_to_user_id: user identifier if the tweet is a reply to a specific user\n",
    "# in_reply_to_status_id: status identifier id the tweet is a reply to a specific status"
   ]
  },
  {
   "cell_type": "code",
   "execution_count": 9,
   "metadata": {
    "collapsed": true
   },
   "outputs": [],
   "source": [
    "def get_retweetid(tweet):\n",
    "    try:\n",
    "        return(tweet[\"retweeted_status\"][\"id\"])\n",
    "    except: \n",
    "        return None\n",
    "    \n",
    "def get_retweet_username(tweet):\n",
    "    try:\n",
    "        return(tweet[\"retweeted_status\"][\"user\"][\"name\"])\n",
    "    except: \n",
    "        return None\n",
    "\n",
    "def get_retweet_followers_count(tweet):\n",
    "    try:\n",
    "        return(int(tweet[\"retweeted_status\"][\"user\"][\"followers_count\"]))\n",
    "    except: \n",
    "        return None\n",
    "    \n",
    "def get_retweet_user_id(tweet):\n",
    "    try:\n",
    "        return(tweet[\"retweeted_status\"][\"user\"][\"id_str\"])\n",
    "    except: \n",
    "        return None\n",
    "    \n",
    "def get_retweet_fa(tweet):\n",
    "    try:\n",
    "        return(int(tweet[\"retweeted_status\"][\"favorite_count\"]))\n",
    "    except: \n",
    "        return None\n",
    "def get_retweet_retw(tweet):\n",
    "    try:\n",
    "        return(int(tweet[\"retweeted_status\"][\"retweet_count\"]))\n",
    "    except: \n",
    "        return None\n",
    "def get_retweet_rep(tweet):\n",
    "    try:\n",
    "        return(int(tweet[\"retweeted_status\"][\"reply_count\"]))\n",
    "    except: \n",
    "        return None\n",
    "    \n",
    "def get_quoted_status_text(tweet):\n",
    "     try:\n",
    "        return(tweet[\"quoted_status\"][\"extended_tweet\"][\"full_text\"])\n",
    "     except:\n",
    "        return None"
   ]
  },
  {
   "cell_type": "code",
   "execution_count": 10,
   "metadata": {
    "collapsed": true
   },
   "outputs": [],
   "source": [
    "tweets=pd.DataFrame()\n",
    "tweets['id'] = list(map(lambda tweet: int(tweet['id']), tweets_data))\n",
    "# tweets['country']=list(map(lambda tweet: tweet['place']['country'] if tweet['place']!= None else \"\", tweets_data))\n",
    "tweets['text']=list(map(lambda tweet: tweet['text'], tweets_data))\n",
    "tweets[\"user_id\"]=list(map(lambda tweet:tweet[\"user\"][\"id_str\"],tweets_data))\n",
    "tweets[\"user_name\"]=list(map(lambda tweet:tweet[\"user\"][\"name\"],tweets_data))\n",
    "tweets[\"user_followers\"]=list(map(lambda tweet:int(tweet[\"user\"][\"followers_count\"]),tweets_data))\n",
    "# tweets[\"quoted_status_text\"]=list(map(lambda tweet:int(tweet[\"quoted_status\"][\"extended_tweet\"][\"full_text\"]),tweets_data))\n",
    "tweets[\"quoted_status_text\"]=list(map(lambda tweet:get_quoted_status_text(tweet),tweets_data))\n",
    "tweets['user_loc']=list(map(lambda tweet: tweet['user']['location'], tweets_data))\n",
    "tweets['lang']=list(map(lambda tweet: tweet['lang'], tweets_data))\n",
    "# tweets['retweeted'] = list(map(lambda tweet: tweet['retweeted'], tweets_data))\n",
    "tweets['retweet_id']=list(map(get_retweetid, tweets_data))\n",
    "tweets['retweet_user_id']=list(map(get_retweet_user_id, tweets_data))\n",
    "tweets['retweet_status_user_name']=list(map(get_retweet_username, tweets_data))\n",
    "tweets['retweet_status_follower_count']=list(map(get_retweet_followers_count, tweets_data))\n",
    "tweets['retweet_status_favorite_count']=list(map(get_retweetid, tweets_data))\n",
    "tweets['retweet_status_retweet_count']=list(map(get_retweet_retw, tweets_data))\n",
    "tweets['retweet_status_reply_count']=list(map(get_retweet_rep, tweets_data))\n",
    "tweets['created_at']=list(map(lambda tweet: time.strftime('%Y-%m-%d %H:%M:%S', time.strptime(tweet['created_at'],'%a %b %d %H:%M:%S +0000 %Y')), tweets_data))\n",
    "# tweets['retweet_count']=list(map(lambda tweet: tweet['retweet_count'] if tweet['retweet_count']!= None else None, tweets_data))\n",
    "# tweets['reply_count']=list(map(lambda tweet: tweet['reply_count'] if tweet['reply_count']!= None else None, tweets_data))\n",
    "# tweets['favorite_count']=list(map(lambda tweet: tweet['favorite_count'], tweets_data))\n"
   ]
  },
  {
   "cell_type": "code",
   "execution_count": 11,
   "metadata": {
    "collapsed": true
   },
   "outputs": [],
   "source": [
    "# get rid of replicated id\n",
    "tweets=tweets.drop_duplicates()"
   ]
  },
  {
   "cell_type": "code",
   "execution_count": 12,
   "metadata": {
    "collapsed": true
   },
   "outputs": [],
   "source": [
    "tweets=tweets.loc[tweets.lang==\"en\",] # getrid of none enligsh"
   ]
  },
  {
   "cell_type": "code",
   "execution_count": 13,
   "metadata": {},
   "outputs": [
    {
     "data": {
      "text/plain": [
       "(52396, 16)"
      ]
     },
     "execution_count": 13,
     "metadata": {},
     "output_type": "execute_result"
    }
   ],
   "source": [
    "tweets.shape"
   ]
  },
  {
   "cell_type": "code",
   "execution_count": 14,
   "metadata": {},
   "outputs": [
    {
     "data": {
      "text/plain": [
       "46738"
      ]
     },
     "execution_count": 14,
     "metadata": {},
     "output_type": "execute_result"
    }
   ],
   "source": [
    "sum(tweets.quoted_status_text.isna())"
   ]
  },
  {
   "cell_type": "code",
   "execution_count": 15,
   "metadata": {},
   "outputs": [
    {
     "data": {
      "text/plain": [
       "'RT @JasonHalle: Interest Rates are Rising FAST\\n\\nCould this be a result of:\\n* GOP Tax Cuts\\n* Inflation produced by Trade War\\n* Realization D…'"
      ]
     },
     "execution_count": 15,
     "metadata": {},
     "output_type": "execute_result"
    }
   ],
   "source": [
    "tweets.loc[tweets.retweet_user_id==\"79784897\"].iloc[0].text"
   ]
  },
  {
   "cell_type": "markdown",
   "metadata": {},
   "source": [
    "# tokenization and stop words\n"
   ]
  },
  {
   "cell_type": "code",
   "execution_count": 16,
   "metadata": {},
   "outputs": [
    {
     "name": "stdout",
     "output_type": "stream",
     "text": [
      "['RT', '@marcobonzanini', ':', 'just', 'an', 'example', '!', ':D', 'http://example.com', '#NLP']\n"
     ]
    }
   ],
   "source": [
    "from nltk.tokenize import word_tokenize\n",
    "import re\n",
    " \n",
    "emoticons_str = r\"\"\"\n",
    "    (?:\n",
    "        [:=;] # Eyes\n",
    "        [oO\\-]? # Nose (optional)\n",
    "        [D\\)\\]\\(\\]/\\\\OpP] # Mouth\n",
    "    )\"\"\"\n",
    " \n",
    "regex_str = [\n",
    "    emoticons_str,\n",
    "    r'<[^>]+>', # HTML tags\n",
    "    r'(?:@[\\w_]+)', # @-mentions\n",
    "    r\"(?:\\#+[\\w_]+[\\w\\'_\\-]*[\\w_]+)\", # hash-tags\n",
    "    r'http[s]?://(?:[a-z]|[0-9]|[$-_@.&amp;+]|[!*\\(\\),]|(?:%[0-9a-f][0-9a-f]))+', # URLs\n",
    " \n",
    "    r'(?:(?:\\d+,?)+(?:\\.?\\d+)?)', # numbers\n",
    "    r\"(?:[a-z][a-z'\\-_]+[a-z])\", # words with - and '\n",
    "    r'(?:[\\w_]+)', # other words\n",
    "    r'(?:\\S)' # anything else\n",
    "]\n",
    "    \n",
    "tokens_re = re.compile(r'('+'|'.join(regex_str)+')', re.VERBOSE | re.IGNORECASE)\n",
    "emoticon_re = re.compile(r'^'+emoticons_str+'$', re.VERBOSE | re.IGNORECASE)\n",
    " \n",
    "def tokenize(s):\n",
    "    return tokens_re.findall(s)\n",
    " \n",
    "def preprocess(s, lowercase=False):\n",
    "    tokens = tokenize(s)\n",
    "#     print(tokens_re.search(tokens[0]))\n",
    "    if lowercase:\n",
    "        tokens =  [token if emoticon_re.search(token)  else token.lower() for token in tokens]\n",
    "    return tokens\n",
    " \n",
    "tweet = 'RT @marcobonzanini: just an example! :D http://example.com #NLP'\n",
    "print(preprocess(tweet))\n",
    "# ['RT', '@marcobonzanini', ':', 'just', 'a n', 'example', '!', ':D', 'http://example.com', '#NLP']\n"
   ]
  },
  {
   "cell_type": "code",
   "execution_count": 17,
   "metadata": {
    "collapsed": true
   },
   "outputs": [],
   "source": [
    "from nltk.corpus import stopwords\n",
    "import string\n",
    "def remove_stop_words(tweet):\n",
    "    out=tweet\n",
    "    if(tweet):\n",
    "        p=re.compile(r'http[s]?://(?:[a-z]|[0-9]|[$-_@.&amp;+]|[!*\\(\\),]|(?:%[0-9a-f][0-9a-f]))+') # URLs\n",
    "\n",
    "        punctuation = list(string.punctuation)\n",
    "        stop = stopwords.words('english') + punctuation + ['via',\"\\r\",r'<[^>]+>']\n",
    "    #     print(stop)\n",
    "        terms_stop = [term for term in preprocess(tweet) if p.match(term)==None and term not in stop]\n",
    "    #     terms_stop = [term for term in preprocess(tweet) if term not in stop]\n",
    "        out=\" \".join(terms_stop)\n",
    "    return(out)"
   ]
  },
  {
   "cell_type": "code",
   "execution_count": 18,
   "metadata": {
    "collapsed": true
   },
   "outputs": [],
   "source": [
    "mytext=list(map(lambda tweet: remove_stop_words(tweet), tweets.text))"
   ]
  },
  {
   "cell_type": "code",
   "execution_count": 19,
   "metadata": {
    "collapsed": true
   },
   "outputs": [],
   "source": [
    "tweets[\"text\"]=mytext"
   ]
  },
  {
   "cell_type": "code",
   "execution_count": 20,
   "metadata": {
    "collapsed": true
   },
   "outputs": [],
   "source": [
    "user_loc=list(map(lambda tweet: remove_stop_words(tweet), tweets.user_loc))"
   ]
  },
  {
   "cell_type": "code",
   "execution_count": 21,
   "metadata": {
    "collapsed": true
   },
   "outputs": [],
   "source": [
    "tweets.user_loc=user_loc"
   ]
  },
  {
   "cell_type": "code",
   "execution_count": 22,
   "metadata": {
    "collapsed": true
   },
   "outputs": [],
   "source": [
    "tweets=tweets.loc[tweets.text!=\"\",]"
   ]
  },
  {
   "cell_type": "markdown",
   "metadata": {},
   "source": [
    "DataFrame.to_csv(path_or_buf=None, sep=', ', na_rep='', float_format=None, columns=None, header=True, index=True, index_label=None, mode='w', encoding=None, compression=None, quoting=None, quotechar='\"', line_terminator='\\n', chunksize=None, tupleize_cols=None, date_format=None, doublequote=True, escapechar=None, decimal='.')[source]¶"
   ]
  },
  {
   "cell_type": "code",
   "execution_count": 23,
   "metadata": {
    "collapsed": true
   },
   "outputs": [],
   "source": [
    "tweets.to_csv(\"../output/clean_data_4_24.csv\",encoding=\"utf-8\")"
   ]
  },
  {
   "cell_type": "markdown",
   "metadata": {},
   "source": [
    "# network graph for retweet relationship"
   ]
  },
  {
   "cell_type": "code",
   "execution_count": 24,
   "metadata": {
    "collapsed": true
   },
   "outputs": [],
   "source": [
    "notnaindex=tweets[\"retweet_status_user_name\"].notna()\n",
    "retweet_relation=tweets.loc[notnaindex,[\"user_name\",\"user_followers\",\"retweet_status_user_name\",\"retweet_status_follower_count\"]]\n",
    "retweet_relation.to_csv(\"../output/retweet_relation_4_24.csv\",encoding=\"utf-8\")"
   ]
  }
 ],
 "metadata": {
  "kernelspec": {
   "display_name": "Python 3",
   "language": "python",
   "name": "python3"
  },
  "language_info": {
   "codemirror_mode": {
    "name": "ipython",
    "version": 3
   },
   "file_extension": ".py",
   "mimetype": "text/x-python",
   "name": "python",
   "nbconvert_exporter": "python",
   "pygments_lexer": "ipython3",
   "version": "3.6.1"
  }
 },
 "nbformat": 4,
 "nbformat_minor": 2
}
