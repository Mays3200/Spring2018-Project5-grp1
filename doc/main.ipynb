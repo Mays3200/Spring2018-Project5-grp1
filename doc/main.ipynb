{
 "cells": [
  {
   "cell_type": "markdown",
   "metadata": {},
   "source": [
    "# 'China and US Trader War' Twitter Analysis\n",
    "## Website Link: http://keran.pythonanywhere.com\n",
    "## Model Link: http://keran.pythonanywhere.com/input\n",
    "<img src=\"../figs/webpage1.jpg\">"
   ]
  },
  {
   "cell_type": "markdown",
   "metadata": {},
   "source": [
    "## 1. Project Purpose:"
   ]
  },
  {
   "cell_type": "markdown",
   "metadata": {},
   "source": [
    "#### Donald Trump and its trade war has incresing effect all over the word.\n",
    "President Donald Trump threatened to impose 35% to 45% tariffs on Chinese imports to force China into renegotiating its trade balance with the U.S. The immediate result of that would be a fierce trade war. The purpose of our project is to analyze the 'trader war' comments from twitter, including web scraping, sentiment analysis, LDA topic model and business insights based on data.\n",
    "#### Twitter is a popular app with many politic related topics and users.\n",
    "For example, Donald Trump personally is a user with many follower on twitter."
   ]
  },
  {
   "cell_type": "markdown",
   "metadata": {},
   "source": [
    "## 2. Data Scraping, Preprocessing and Models:\n",
    "\n",
    "#### 1. Twitter Data Scraping:\n",
    "We used twitter API to extract twitter streaming sample including words 'tariff', 'trade war' and '#TradeWar' and save it as a .txt file. Please apply a twitter API id through the twitter website.\n",
    "\n",
    "Please find the code in the file: lib/get_twitter.ipynb\n",
    "\n",
    "#### 2. Data Preprocessing:\n",
    "We extracted twitter data into json and transform it to a dataframe for further machine learning model.\n",
    "\n",
    "Please find the code in the file: lib/cleaning.ipynb\n",
    "\n",
    "The outcome data in the data/clean_data.csv\n",
    "\n",
    "#### 3. Sentiment Anlysis Model (Machine Learning Model):\n",
    "We used vader sentiment analysis to do analysis on our data set, which is a pre-trained deep learning model. And we combine this with the 'opinion leaders', the top 20 retweeted users among this topic, to extract their sentiment score.\n",
    "\n",
    "Please find the code in the file: lib/get_twitter.ipynb\n",
    "\n",
    "The outcome data in the data/data_with_vadersentiment.csv\n",
    "\n",
    "<img src=\"../figs/webpage2.jpg\">\n",
    "\n",
    "#### 4. LDA Topic Model (Machine Learningmodel):\n",
    "We applied LDA Model to extract twitter topics under negative attitude data and positive attitude data.\n",
    "\n",
    "Please find the code in the file: lib/lda.ipynb\n",
    "\n",
    "#### 5. LSTM(Long Short Term Memory) (Recurrent Neural Network):\n",
    "We transform the text data into word vectors based on the Word2vec technique using the google news data, then applied LSTM Model to extract twitter topics under negative attitude data and positive attitude data. Since the 'support' and 'not support' are too general, we decide to show Vader Model result on our website.\n"
   ]
  },
  {
   "cell_type": "markdown",
   "metadata": {},
   "source": [
    "# 3. Visulization and Web Developing:\n",
    "\n",
    "#### D3 Visulization:\n",
    "We used d3 to show the twittee and retwitte relationship among all the users.\n",
    "\n",
    "Please find the detail code in the file: lib/Flask/statis/js/jquert-1.12.1.js\n",
    "\n",
    "#### R Visulization:\n",
    "We mainly used ggplot and plotly package to show all the results.\n",
    "\n",
    "Please find the detail code in the file: lib/Visulization.R\n",
    "\n",
    "#### HTML Frontend Development:\n",
    "We have two html files for our website:\n",
    "\n",
    "index.html: our website homepage\n",
    "\n",
    "input.html: our sentiment analysis model web page\n",
    "\n",
    "Please find the detail code in the file: lib/Flask/templates\n",
    "\n",
    "#### Flask Backend Web Development:\n",
    "We used flask to build our website framework and insert sentiment analysis.\n",
    "\n",
    "Please find the detail code in the file: lib/Flask/routes.py\n",
    "\n",
    "<img src=\"../figs/model.jpg\">"
   ]
  },
  {
   "cell_type": "markdown",
   "metadata": {},
   "source": [
    "# 4. Insights:\n",
    "\n",
    "#### 1. Around 60% tweets are negative for the 'Trader War'.\n",
    "\n",
    "#### 2. LDA Topic:\n",
    "After we get key-words for negative and positive topics we draw the word cloud on the left-hand side.\n",
    "For Negative topics:\n",
    "The large “Trade War” and “Trump” represent people’s concerns about the President Trump’s announcement about the tariffs which triggered the Sino-US trade war. Many people expressed the concerns regarding the stock market. Dow Jones plunges more than 724 points. This trade war put Wall Street into panic.\n",
    "Another concerns is regarding the agriculture, To fight back, China impose 25% duties on imports of the commodities. As an agricultural exporter, U.S. suffered from the increasing tariff of exporting “soybean” to China. It threatened the food consumption which is inelastic demand in China. However, “Mexico” may benefit from the trade war since it can export more soybeans and pork to satisfy China’s demand of agricultural products. That’s not good news for “farmers” since they may face higher price but lower sales.\n",
    "For Positive topics:\n",
    "On the other side, as a main “steel” importer, U.S. increased the tariff of steel to 25% and limited the investment of technology corporations from China. The possible “manufacturing” “job” became the hot discussion topic. China’s technology and steel industry faced a lot of problem for entering the U.S. market.\n",
    "\n",
    "#### 3. Busines Insights: Sentiment Analysis among all twittes has strong correlation with Dow Jones Index:\n",
    "\n",
    "<img src=\"../figs/webpage3.jpg\">\n",
    "\n",
    "Please find detail throuhg our website."
   ]
  },
  {
   "cell_type": "markdown",
   "metadata": {},
   "source": [
    "# 5. Group Members:\n",
    "Keran Li: kl2993@columbia.edu\n",
    "\n",
    "Mengqi Chen: mc4396@columbia.edu\n",
    "\n",
    "Wenyi Tao: wt2271@columbia.edu\n",
    "\n",
    "Xinlei Cao: xc2420@columbia.edu\n",
    "\n",
    "Xinrou Li: xl2685@columbia.edu"
   ]
  }
 ],
 "metadata": {
  "kernelspec": {
   "display_name": "Python 3",
   "language": "python",
   "name": "python3"
  },
  "language_info": {
   "codemirror_mode": {
    "name": "ipython",
    "version": 3
   },
   "file_extension": ".py",
   "mimetype": "text/x-python",
   "name": "python",
   "nbconvert_exporter": "python",
   "pygments_lexer": "ipython3",
   "version": "3.6.4"
  }
 },
 "nbformat": 4,
 "nbformat_minor": 2
}
